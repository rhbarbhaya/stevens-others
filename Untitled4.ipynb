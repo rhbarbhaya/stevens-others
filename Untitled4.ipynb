{
 "cells": [
  {
   "cell_type": "code",
   "execution_count": 17,
   "metadata": {},
   "outputs": [
    {
     "data": {
      "text/plain": [
       "8"
      ]
     },
     "execution_count": 17,
     "metadata": {},
     "output_type": "execute_result"
    }
   ],
   "source": [
    "import numpy as np\n",
    "arr = [[3,7,5,3,4,5],[4,5,2,6,5,4],[7,4,9,7,8,3]]\n",
    "max(max(arr))\n"
   ]
  },
  {
   "cell_type": "code",
   "execution_count": 7,
   "metadata": {},
   "outputs": [
    {
     "name": "stdout",
     "output_type": "stream",
     "text": [
      "23 20\n"
     ]
    }
   ],
   "source": [
    "from typing import List\n",
    "\n",
    "def scoreDiff(board: List[List[int]]):\n",
    "\n",
    " \n",
    "\n",
    "  tomScore = 0\n",
    "\n",
    "  jerryScore = 0\n",
    "\n",
    "  ncol = len(board[0])\n",
    "\n",
    "  maxValuesColumn = []\n",
    "\n",
    "  for c in range(ncol):\n",
    "\n",
    "    colmn = [row[c] for row in board]\n",
    "\n",
    "    maxValuesColumn.append(max(colmn))\n",
    "\n",
    "\n",
    "\n",
    "  tomturn = True\n",
    "\n",
    "  maxValuesColumn.sort(reverse=True)\n",
    "\n",
    " \n",
    "\n",
    "  for i in range(len(maxValuesColumn)):\n",
    "\n",
    "    if tomturn == True:\n",
    "\n",
    "       tomScore += maxValuesColumn[i]\n",
    "\n",
    "       tomturn = False\n",
    "\n",
    "    else:\n",
    "\n",
    "       jerryScore += maxValuesColumn[i]\n",
    "\n",
    "       tomturn = True\n",
    "\n",
    "\n",
    "\n",
    "  print(tomScore,jerryScore)\n",
    "\n",
    "\n",
    "\n",
    "\n",
    "\n",
    "board = [[3,7,5,3,4,5],\n",
    "\n",
    "        [4,5,2,6,4,5],\n",
    "\n",
    "        [7,4,9,7,8,3]]\n",
    "\n",
    "board1 = [[5,7,6,2,8,4,4,8],\n",
    "\n",
    "          [2,5,4,5,9,8,4,2],\n",
    "\n",
    "          [5,4,3,9,8,3,3,4],\n",
    "\n",
    "          [4,9,3,4,6,7,4,9,4],\n",
    "\n",
    "          [2,4,6,2,9,2,4,2]]\n",
    "\n",
    "scoreDiff(board)"
   ]
  }
 ],
 "metadata": {
  "kernelspec": {
   "display_name": "Python 3",
   "language": "python",
   "name": "python3"
  },
  "language_info": {
   "codemirror_mode": {
    "name": "ipython",
    "version": 3
   },
   "file_extension": ".py",
   "mimetype": "text/x-python",
   "name": "python",
   "nbconvert_exporter": "python",
   "pygments_lexer": "ipython3",
   "version": "3.7.3"
  }
 },
 "nbformat": 4,
 "nbformat_minor": 2
}
