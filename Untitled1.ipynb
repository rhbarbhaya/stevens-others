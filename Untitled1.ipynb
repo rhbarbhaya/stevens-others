{
 "cells": [
  {
   "cell_type": "code",
   "execution_count": 2,
   "metadata": {},
   "outputs": [],
   "source": [
    "import pandas as pd\n",
    "import numpy as np"
   ]
  },
  {
   "cell_type": "code",
   "execution_count": 3,
   "metadata": {},
   "outputs": [
    {
     "name": "stdout",
     "output_type": "stream",
     "text": [
      "              UID  Epion Office ID Appointment Date  Patient ID  \\\n",
      "0   4216512595999              999          6/10/15       12595   \n",
      "1    421656140999              999          6/10/15        6140   \n",
      "2   4216512150999              999          6/10/15       12150   \n",
      "3   4216520669275               75          6/10/15      206692   \n",
      "4  42165203956999              999          6/10/15      203956   \n",
      "\n",
      "  Check In Start Time Check In Stop Time Intake By Intake Start Time  \\\n",
      "0             7:51:49            7:52:00       NaN               NaN   \n",
      "1             7:52:28            7:52:34       NaN               NaN   \n",
      "2             8:18:24            8:18:41       NaN               NaN   \n",
      "3             8:25:43            8:38:16  dserrand           8:38:31   \n",
      "4            12:50:08           12:50:44       NaN               NaN   \n",
      "\n",
      "  Intake Stop Time       Exam By Exam Start Time Exam Stop Time Check Out By  \\\n",
      "0              NaN           NaN             NaN            NaN   cmcmillan3   \n",
      "1              NaN           NaN             NaN            NaN   cmcmillan3   \n",
      "2              NaN           NaN             NaN            NaN   cmcmillan3   \n",
      "3          8:43:20  dkelmanovich         8:43:35        9:05:10    dquintana   \n",
      "4              NaN           NaN             NaN            NaN    lfenwick1   \n",
      "\n",
      "  Check Out Start Time Check Out Stop Time  \n",
      "0              7:52:16             7:52:22  \n",
      "1              7:52:46             7:52:49  \n",
      "2              8:18:50             8:18:55  \n",
      "3              9:07:52             9:07:55  \n",
      "4             14:20:22            14:20:28  \n"
     ]
    }
   ],
   "source": [
    "details = pd.read_csv(\"Appointment Details.csv\")\n",
    "times = pd.read_csv(\"Appointment Times.csv\")\n",
    "print (times.head())"
   ]
  },
  {
   "cell_type": "code",
   "execution_count": 4,
   "metadata": {},
   "outputs": [],
   "source": [
    "times[\"Check Out Stop Time\"] = pd.to_timedelta(times[\"Check Out Stop Time\"])\n",
    "times[\"Check In Start Time\"] = pd.to_timedelta(times[\"Check In Start Time\"])"
   ]
  },
  {
   "cell_type": "code",
   "execution_count": 5,
   "metadata": {},
   "outputs": [
    {
     "name": "stdout",
     "output_type": "stream",
     "text": [
      "<class 'pandas._libs.tslibs.timedeltas.Timedelta'>\n",
      "<class 'pandas._libs.tslibs.timedeltas.Timedelta'>\n"
     ]
    }
   ],
   "source": [
    "print (type(times[\"Check Out Stop Time\"][1]))\n",
    "print (type(times[\"Check In Start Time\"][1]))"
   ]
  },
  {
   "cell_type": "code",
   "execution_count": 6,
   "metadata": {},
   "outputs": [
    {
     "name": "stdout",
     "output_type": "stream",
     "text": [
      "0 days 00:00:21\n"
     ]
    }
   ],
   "source": [
    "x = (times[\"Check Out Stop Time\"][1]) - (times[\"Check In Start Time\"][1])\n",
    "print x"
   ]
  },
  {
   "cell_type": "code",
   "execution_count": 7,
   "metadata": {},
   "outputs": [],
   "source": [
    "times[\"TT\"] = (times[\"Check Out Stop Time\"]) - (times[\"Check In Start Time\"])"
   ]
  },
  {
   "cell_type": "code",
   "execution_count": 8,
   "metadata": {},
   "outputs": [
    {
     "name": "stdout",
     "output_type": "stream",
     "text": [
      "              UID  Epion Office ID Appointment Date  Patient ID  \\\n",
      "0   4216512595999              999          6/10/15       12595   \n",
      "1    421656140999              999          6/10/15        6140   \n",
      "2   4216512150999              999          6/10/15       12150   \n",
      "3   4216520669275               75          6/10/15      206692   \n",
      "4  42165203956999              999          6/10/15      203956   \n",
      "\n",
      "  Check In Start Time Check In Stop Time Intake By Intake Start Time  \\\n",
      "0            07:51:49            7:52:00       NaN               NaN   \n",
      "1            07:52:28            7:52:34       NaN               NaN   \n",
      "2            08:18:24            8:18:41       NaN               NaN   \n",
      "3            08:25:43            8:38:16  dserrand           8:38:31   \n",
      "4            12:50:08           12:50:44       NaN               NaN   \n",
      "\n",
      "  Intake Stop Time       Exam By Exam Start Time Exam Stop Time Check Out By  \\\n",
      "0              NaN           NaN             NaN            NaN   cmcmillan3   \n",
      "1              NaN           NaN             NaN            NaN   cmcmillan3   \n",
      "2              NaN           NaN             NaN            NaN   cmcmillan3   \n",
      "3          8:43:20  dkelmanovich         8:43:35        9:05:10    dquintana   \n",
      "4              NaN           NaN             NaN            NaN    lfenwick1   \n",
      "\n",
      "  Check Out Start Time Check Out Stop Time       TT  \n",
      "0              7:52:16            07:52:22 00:00:33  \n",
      "1              7:52:46            07:52:49 00:00:21  \n",
      "2              8:18:50            08:18:55 00:00:31  \n",
      "3              9:07:52            09:07:55 00:42:12  \n",
      "4             14:20:22            14:20:28 01:30:20  \n"
     ]
    }
   ],
   "source": [
    "print times.head()"
   ]
  },
  {
   "cell_type": "code",
   "execution_count": 9,
   "metadata": {},
   "outputs": [
    {
     "name": "stdout",
     "output_type": "stream",
     "text": [
      "              UID               Department  Epion Office ID_x  \\\n",
      "0   4216512595999  Physical Therapy Office                999   \n",
      "1    421656140999  Physical Therapy Office                999   \n",
      "2   4216512150999  Physical Therapy Office                999   \n",
      "3   4216520669275          Fishkill Office                 75   \n",
      "4  42165203956999  Physical Therapy Office                999   \n",
      "\n",
      "             Provider Appointment Date_x            Appointment Type  \\\n",
      "0      Fenwick_Lauren            6/10/15  Physical Therapy/Follow Up   \n",
      "1      Fenwick_Lauren            6/10/15  Physical Therapy/Follow Up   \n",
      "2      Fenwick_Lauren            6/10/15  Physical Therapy/Follow Up   \n",
      "3  Kelmanovich_Daniel            6/10/15              New Patient 15   \n",
      "4      Fenwick_Lauren            6/10/15  Physical Therapy/Follow Up   \n",
      "\n",
      "   Appointment ID  Patient ID_x Patient Date of Registration  \\\n",
      "0          242201         12595                      6/28/93   \n",
      "1           83460          6140                      2/29/08   \n",
      "2           83462         12150                      3/19/12   \n",
      "3          235081        206692                       6/5/15   \n",
      "4           83463        203956                       2/5/15   \n",
      "\n",
      "   Primary Claim Ins Grp   ...    Intake By Intake Start Time  \\\n",
      "0                    NaN   ...          NaN               NaN   \n",
      "1                    NaN   ...          NaN               NaN   \n",
      "2                    NaN   ...          NaN               NaN   \n",
      "3                    NaN   ...     dserrand           8:38:31   \n",
      "4                    NaN   ...          NaN               NaN   \n",
      "\n",
      "  Intake Stop Time       Exam By Exam Start Time  Exam Stop Time Check Out By  \\\n",
      "0              NaN           NaN             NaN             NaN   cmcmillan3   \n",
      "1              NaN           NaN             NaN             NaN   cmcmillan3   \n",
      "2              NaN           NaN             NaN             NaN   cmcmillan3   \n",
      "3          8:43:20  dkelmanovich         8:43:35         9:05:10    dquintana   \n",
      "4              NaN           NaN             NaN             NaN    lfenwick1   \n",
      "\n",
      "  Check Out Start Time Check Out Stop Time       TT  \n",
      "0              7:52:16            07:52:22 00:00:33  \n",
      "1              7:52:46            07:52:49 00:00:21  \n",
      "2              8:18:50            08:18:55 00:00:31  \n",
      "3              9:07:52            09:07:55 00:42:12  \n",
      "4             14:20:22            14:20:28 01:30:20  \n",
      "\n",
      "[5 rows x 28 columns]\n"
     ]
    }
   ],
   "source": [
    "df = pd.merge(details, times, on = \"UID\", how = \"left\")\n",
    "print (df.head())"
   ]
  },
  {
   "cell_type": "code",
   "execution_count": 10,
   "metadata": {},
   "outputs": [
    {
     "name": "stdout",
     "output_type": "stream",
     "text": [
      "API-81           13616\n",
      "API-13            5276\n",
      "API-27            2741\n",
      "cmoore79          1469\n",
      "jrivera64          501\n",
      "anoriega           263\n",
      "mpanarese          202\n",
      "ksherwood          140\n",
      "mmoreno33          138\n",
      "sconklin5          125\n",
      "dmorris40          117\n",
      "jsantarelli         78\n",
      "sbseiso             78\n",
      "ATHENA              59\n",
      "dserrand            52\n",
      "cmcmillan3          49\n",
      "godar               40\n",
      "mkaiser6            33\n",
      "dquintana           30\n",
      "afino               27\n",
      "ddelbello1          27\n",
      "rnicole1            24\n",
      "cquintana6          21\n",
      "dzelazny            18\n",
      "jmclean8            16\n",
      "ccatapano           14\n",
      "jbauer17            10\n",
      "mborrero             8\n",
      "skyle6               7\n",
      "lfenwick1            6\n",
      "jlavacca             5\n",
      "jgaleno              4\n",
      "mbrowne              3\n",
      "mmccabe9             2\n",
      "cschubert3           2\n",
      "jvirgo               2\n",
      "dcirillo             2\n",
      "lamorosa             1\n",
      "kfitzpatrick9        1\n",
      "spennington6         1\n",
      "cwyman3              1\n",
      "jbiddle1             1\n",
      "cordosgoitia         1\n",
      "alazzarini           1\n",
      "Name: Checked In By, dtype: int64\n"
     ]
    }
   ],
   "source": [
    "print (df[\"Checked In By\"].value_counts())"
   ]
  },
  {
   "cell_type": "code",
   "execution_count": 16,
   "metadata": {},
   "outputs": [
    {
     "ename": "AttributeError",
     "evalue": "Can only use .dt accessor with datetimelike values",
     "output_type": "error",
     "traceback": [
      "\u001b[1;31m---------------------------------------------------------------------------\u001b[0m",
      "\u001b[1;31mAttributeError\u001b[0m                            Traceback (most recent call last)",
      "\u001b[1;32m<ipython-input-16-3d5423f40b8a>\u001b[0m in \u001b[0;36m<module>\u001b[1;34m()\u001b[0m\n\u001b[1;32m----> 1\u001b[1;33m \u001b[0mdf\u001b[0m\u001b[1;33m[\u001b[0m\u001b[1;34m\"Appointment Date_x\"\u001b[0m\u001b[1;33m]\u001b[0m \u001b[1;33m=\u001b[0m \u001b[0mdf\u001b[0m\u001b[1;33m[\u001b[0m\u001b[1;34m\"Appointment Date_x\"\u001b[0m\u001b[1;33m]\u001b[0m\u001b[1;33m.\u001b[0m\u001b[0mdt\u001b[0m\u001b[1;33m.\u001b[0m\u001b[0mdate\u001b[0m\u001b[1;33m.\u001b[0m\u001b[0mformat\u001b[0m\u001b[1;33m(\u001b[0m\u001b[0mmm\u001b[0m\u001b[1;33m/\u001b[0m\u001b[0mdd\u001b[0m\u001b[1;33m/\u001b[0m\u001b[0myyyy\u001b[0m\u001b[1;33m)\u001b[0m\u001b[1;33m\u001b[0m\u001b[0m\n\u001b[0m",
      "\u001b[1;32mC:\\Users\\rhbar\\Anaconda2\\lib\\site-packages\\pandas\\core\\generic.pyc\u001b[0m in \u001b[0;36m__getattr__\u001b[1;34m(self, name)\u001b[0m\n\u001b[0;32m   4370\u001b[0m         if (name in self._internal_names_set or name in self._metadata or\n\u001b[0;32m   4371\u001b[0m                 name in self._accessors):\n\u001b[1;32m-> 4372\u001b[1;33m             \u001b[1;32mreturn\u001b[0m \u001b[0mobject\u001b[0m\u001b[1;33m.\u001b[0m\u001b[0m__getattribute__\u001b[0m\u001b[1;33m(\u001b[0m\u001b[0mself\u001b[0m\u001b[1;33m,\u001b[0m \u001b[0mname\u001b[0m\u001b[1;33m)\u001b[0m\u001b[1;33m\u001b[0m\u001b[0m\n\u001b[0m\u001b[0;32m   4373\u001b[0m         \u001b[1;32melse\u001b[0m\u001b[1;33m:\u001b[0m\u001b[1;33m\u001b[0m\u001b[0m\n\u001b[0;32m   4374\u001b[0m             \u001b[1;32mif\u001b[0m \u001b[0mself\u001b[0m\u001b[1;33m.\u001b[0m\u001b[0m_info_axis\u001b[0m\u001b[1;33m.\u001b[0m\u001b[0m_can_hold_identifiers_and_holds_name\u001b[0m\u001b[1;33m(\u001b[0m\u001b[0mname\u001b[0m\u001b[1;33m)\u001b[0m\u001b[1;33m:\u001b[0m\u001b[1;33m\u001b[0m\u001b[0m\n",
      "\u001b[1;32mC:\\Users\\rhbar\\Anaconda2\\lib\\site-packages\\pandas\\core\\accessor.pyc\u001b[0m in \u001b[0;36m__get__\u001b[1;34m(self, obj, cls)\u001b[0m\n\u001b[0;32m    131\u001b[0m             \u001b[1;31m# we're accessing the attribute of the class, i.e., Dataset.geo\u001b[0m\u001b[1;33m\u001b[0m\u001b[1;33m\u001b[0m\u001b[0m\n\u001b[0;32m    132\u001b[0m             \u001b[1;32mreturn\u001b[0m \u001b[0mself\u001b[0m\u001b[1;33m.\u001b[0m\u001b[0m_accessor\u001b[0m\u001b[1;33m\u001b[0m\u001b[0m\n\u001b[1;32m--> 133\u001b[1;33m         \u001b[0maccessor_obj\u001b[0m \u001b[1;33m=\u001b[0m \u001b[0mself\u001b[0m\u001b[1;33m.\u001b[0m\u001b[0m_accessor\u001b[0m\u001b[1;33m(\u001b[0m\u001b[0mobj\u001b[0m\u001b[1;33m)\u001b[0m\u001b[1;33m\u001b[0m\u001b[0m\n\u001b[0m\u001b[0;32m    134\u001b[0m         \u001b[1;31m# Replace the property with the accessor object. Inspired by:\u001b[0m\u001b[1;33m\u001b[0m\u001b[1;33m\u001b[0m\u001b[0m\n\u001b[0;32m    135\u001b[0m         \u001b[1;31m# http://www.pydanny.com/cached-property.html\u001b[0m\u001b[1;33m\u001b[0m\u001b[1;33m\u001b[0m\u001b[0m\n",
      "\u001b[1;32mC:\\Users\\rhbar\\Anaconda2\\lib\\site-packages\\pandas\\core\\indexes\\accessors.pyc\u001b[0m in \u001b[0;36m__new__\u001b[1;34m(cls, data)\u001b[0m\n\u001b[0;32m    323\u001b[0m             \u001b[1;32mpass\u001b[0m  \u001b[1;31m# we raise an attribute error anyway\u001b[0m\u001b[1;33m\u001b[0m\u001b[0m\n\u001b[0;32m    324\u001b[0m \u001b[1;33m\u001b[0m\u001b[0m\n\u001b[1;32m--> 325\u001b[1;33m         raise AttributeError(\"Can only use .dt accessor with datetimelike \"\n\u001b[0m\u001b[0;32m    326\u001b[0m                              \"values\")\n",
      "\u001b[1;31mAttributeError\u001b[0m: Can only use .dt accessor with datetimelike values"
     ]
    }
   ],
   "source": [
    "df[\"Appointment Date_x\"] = df[\"Appointment Date_x\"].dt.date.format(mm/dd/yyyy)"
   ]
  },
  {
   "cell_type": "code",
   "execution_count": 15,
   "metadata": {},
   "outputs": [
    {
     "name": "stdout",
     "output_type": "stream",
     "text": [
      "6/10/15\n"
     ]
    }
   ],
   "source": [
    "print ((df[\"Appointment Date_x\"][2]))"
   ]
  },
  {
   "cell_type": "code",
   "execution_count": null,
   "metadata": {},
   "outputs": [],
   "source": []
  },
  {
   "cell_type": "code",
   "execution_count": null,
   "metadata": {},
   "outputs": [],
   "source": []
  },
  {
   "cell_type": "code",
   "execution_count": null,
   "metadata": {},
   "outputs": [],
   "source": [
    "df[df[\"Check In By\"] == \"API-13\"].count()"
   ]
  },
  {
   "cell_type": "code",
   "execution_count": null,
   "metadata": {},
   "outputs": [],
   "source": []
  }
 ],
 "metadata": {
  "kernelspec": {
   "display_name": "Python 2",
   "language": "python",
   "name": "python2"
  },
  "language_info": {
   "codemirror_mode": {
    "name": "ipython",
    "version": 2
   },
   "file_extension": ".py",
   "mimetype": "text/x-python",
   "name": "python",
   "nbconvert_exporter": "python",
   "pygments_lexer": "ipython2",
   "version": "2.7.15"
  }
 },
 "nbformat": 4,
 "nbformat_minor": 2
}
